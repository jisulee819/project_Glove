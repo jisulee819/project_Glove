{
 "cells": [
  {
   "cell_type": "code",
   "execution_count": 1,
   "metadata": {},
   "outputs": [],
   "source": [
    "%matplotlib inline\n",
    "\n",
    "import glob\n",
    "import matplotlib.pyplot as plt\n",
    "import nilearn.image, nilearn.masking, nilearn.plotting\n",
    "import numpy as np\n",
    "import pandas as pd\n",
    "import scipy.stats\n",
    "import seaborn as sns\n",
    "\n",
    "from sklearn.discriminant_analysis import LinearDiscriminantAnalysis"
   ]
  },
  {
   "cell_type": "code",
   "execution_count": 2,
   "metadata": {},
   "outputs": [],
   "source": [
    "data_dir = '/Volumes/clmnlab/GA/MVPA/LSS_pb02_MO_short_duration/data/'"
   ]
  },
  {
   "cell_type": "code",
   "execution_count": 3,
   "metadata": {},
   "outputs": [],
   "source": [
    "def fast_masking(img, roi):\n",
    "    img_data = img.get_data()\n",
    "    roi_mask = roi.get_data().astype(bool)\n",
    "    \n",
    "    if img_data.shape[:3] != roi_mask.shape:\n",
    "        raise ValueError('different shape while masking! img=%s and roi=%s' % (img_data.shape, roi_mask.shape))\n",
    "        \n",
    "    return img_data[roi_mask, :].T"
   ]
  },
  {
   "cell_type": "code",
   "execution_count": 4,
   "metadata": {},
   "outputs": [],
   "source": [
    "def accuracy(train_X, train_y, test_X, test_y):\n",
    "    lda.fit(train_X, train_y)\n",
    "    return np.mean(lda.predict(test_X) == test_y)\n",
    "\n",
    "def cross_validation(datasets, target):\n",
    "    train_y = target + target\n",
    "    test_y = target\n",
    "    \n",
    "    result = []\n",
    "    \n",
    "    for i in range(len(datasets)):\n",
    "        train_X = np.concatenate([a for j, a in enumerate(datasets) if j != i])\n",
    "        test_X = datasets[i]\n",
    "        \n",
    "        result.append(accuracy(train_X, train_y, test_X, test_y))\n",
    "        \n",
    "    return np.mean(result)"
   ]
  },
  {
   "cell_type": "code",
   "execution_count": 5,
   "metadata": {},
   "outputs": [],
   "source": [
    "roi_dir = '/Volumes/clmnlab/GA/fmri_data/masks/DMN/'\n",
    "\n",
    "roi_path = [roi_dir + 'Average.nii']\n",
    "#roi_path = sorted(glob.glob(roi_dir + '*.nii'))\n",
    "\n",
    "roi_imgs = []\n",
    "\n",
    "for path in roi_path:\n",
    "    roi_imgs.append(nilearn.image.load_img(path))"
   ]
  },
  {
   "cell_type": "code",
   "execution_count": 6,
   "metadata": {},
   "outputs": [
    {
     "data": {
      "text/plain": [
       "['/Volumes/clmnlab/GA/fmri_data/masks/DMN/Average.nii']"
      ]
     },
     "execution_count": 6,
     "metadata": {},
     "output_type": "execute_result"
    }
   ],
   "source": [
    "roi_path"
   ]
  },
  {
   "cell_type": "code",
   "execution_count": 8,
   "metadata": {},
   "outputs": [],
   "source": [
    "subj_list = [\n",
    "    'GA01', 'GA02', 'GA05', 'GA07', 'GA08', 'GA11', 'GA12', 'GA13', 'GA14', 'GA15',\n",
    "    'GA18', 'GA19', 'GA20', 'GA21', 'GA23', 'GA26', 'GA27', 'GA28', 'GA29', 'GA30',\n",
    "    'GA31', 'GA32', 'GA33', 'GA34', 'GA35', 'GA36', 'GA37', 'GA38', 'GA42', 'GA44'\n",
    "]\n",
    "    \n",
    "#    'GB01', 'GB02', 'GB05', 'GB07', 'GB08', 'GB11', 'GB12', 'GB13', 'GB14', 'GB15',\n",
    "#    'GB18', 'GB19', 'GB20', 'GB21', 'GB23', 'GB26', 'GB27', 'GB28', 'GB29', 'GB30',\n",
    "#    'GB31', 'GB32', 'GB33', 'GB34', 'GB35', 'GB36', 'GB37', 'GB38', 'GB42', 'GB44'\n",
    "#]"
   ]
  },
  {
   "cell_type": "code",
   "execution_count": 9,
   "metadata": {},
   "outputs": [
    {
     "name": "stdout",
     "output_type": "stream",
     "text": [
      "GA44\r"
     ]
    }
   ],
   "source": [
    "data = {}\n",
    "\n",
    "for subj in subj_list:\n",
    "    for run in range(1, 7):\n",
    "        data[subj, run] = nilearn.image.load_img(data_dir + 'betasLSS.MO.shortdur.%s.r%02d.nii.gz' % (subj, run))\n",
    "    print(subj, end='\\r')"
   ]
  },
  {
   "cell_type": "code",
   "execution_count": 10,
   "metadata": {},
   "outputs": [],
   "source": [
    "for key, value in data.items():\n",
    "    data[key] = nilearn.image.index_img(value, np.arange(1, 97))"
   ]
  },
  {
   "cell_type": "code",
   "execution_count": 11,
   "metadata": {},
   "outputs": [],
   "source": [
    "target_path = list(range(1, 13)) * 8\n",
    "target_pos = []\n",
    "\n",
    "with open('/Volumes/clmnlab/GA/MVPA/LSS_pb02/behaviors/targetID.txt') as file:\n",
    "    for line in file:\n",
    "        target_pos.append(int(line.strip()))\n",
    "        \n",
    "target_pos = target_pos[1:97]"
   ]
  },
  {
   "cell_type": "code",
   "execution_count": 12,
   "metadata": {},
   "outputs": [
    {
     "name": "stdout",
     "output_type": "stream",
     "text": [
      "GA44 1\r"
     ]
    }
   ],
   "source": [
    "lda = LinearDiscriminantAnalysis(solver='lsqr', shrinkage='auto')\n",
    "\n",
    "results = {}\n",
    " \n",
    "for subj in subj_list:\n",
    "    for m, roi in enumerate(roi_imgs):\n",
    "        roi_index = m+1\n",
    "        \n",
    "        if ('pos', 'unpracticed', subj, roi_index) in results:\n",
    "            continue\n",
    "        \n",
    "        X = [\n",
    "            fast_masking(roi=roi, img=data[subj, 1]), \n",
    "            fast_masking(roi=roi, img=data[subj, 2]), \n",
    "            fast_masking(roi=roi, img=data[subj, 3]), \n",
    "        ]\n",
    "        \n",
    "        results['pos', 'practiced', subj, roi_index] = cross_validation(X, target_pos)\n",
    "        results['path', 'practiced', subj, roi_index] = cross_validation(X, target_path)\n",
    "        \n",
    "        X = [\n",
    "            fast_masking(roi=roi, img=data[subj, 4]), \n",
    "            fast_masking(roi=roi, img=data[subj, 5]), \n",
    "            fast_masking(roi=roi, img=data[subj, 6]), \n",
    "        ]\n",
    "        \n",
    "        results['pos', 'unpracticed', subj, roi_index] = cross_validation(X, target_pos)\n",
    "        results['path', 'unpracticed', subj, roi_index] = cross_validation(X, target_path)\n",
    "        \n",
    "        print(subj, roi_index, end='\\r')"
   ]
  },
  {
   "cell_type": "code",
   "execution_count": 13,
   "metadata": {},
   "outputs": [
    {
     "data": {
      "text/plain": [
       "120"
      ]
     },
     "execution_count": 13,
     "metadata": {},
     "output_type": "execute_result"
    }
   ],
   "source": [
    "len(results)"
   ]
  },
  {
   "cell_type": "code",
   "execution_count": 14,
   "metadata": {},
   "outputs": [
    {
     "data": {
      "text/plain": [
       "{('pos', 'practiced', 'GA01', 1): 0.40277777777777773,\n",
       " ('path', 'practiced', 'GA01', 1): 0.18402777777777776,\n",
       " ('pos', 'unpracticed', 'GA01', 1): 0.3506944444444444,\n",
       " ('path', 'unpracticed', 'GA01', 1): 0.18055555555555555,\n",
       " ('pos', 'practiced', 'GA02', 1): 0.3506944444444444,\n",
       " ('path', 'practiced', 'GA02', 1): 0.12499999999999999,\n",
       " ('pos', 'unpracticed', 'GA02', 1): 0.3854166666666667,\n",
       " ('path', 'unpracticed', 'GA02', 1): 0.14583333333333334,\n",
       " ('pos', 'practiced', 'GA05', 1): 0.3333333333333333,\n",
       " ('path', 'practiced', 'GA05', 1): 0.12499999999999999,\n",
       " ('pos', 'unpracticed', 'GA05', 1): 0.44097222222222215,\n",
       " ('path', 'unpracticed', 'GA05', 1): 0.24305555555555558,\n",
       " ('pos', 'practiced', 'GA07', 1): 0.34375,\n",
       " ('path', 'practiced', 'GA07', 1): 0.16666666666666666,\n",
       " ('pos', 'unpracticed', 'GA07', 1): 0.30902777777777785,\n",
       " ('path', 'unpracticed', 'GA07', 1): 0.17361111111111113,\n",
       " ('pos', 'practiced', 'GA08', 1): 0.2916666666666667,\n",
       " ('path', 'practiced', 'GA08', 1): 0.11458333333333333,\n",
       " ('pos', 'unpracticed', 'GA08', 1): 0.3229166666666667,\n",
       " ('path', 'unpracticed', 'GA08', 1): 0.14930555555555555,\n",
       " ('pos', 'practiced', 'GA11', 1): 0.3194444444444444,\n",
       " ('path', 'practiced', 'GA11', 1): 0.10069444444444443,\n",
       " ('pos', 'unpracticed', 'GA11', 1): 0.34027777777777773,\n",
       " ('path', 'unpracticed', 'GA11', 1): 0.13541666666666666,\n",
       " ('pos', 'practiced', 'GA12', 1): 0.375,\n",
       " ('path', 'practiced', 'GA12', 1): 0.22569444444444442,\n",
       " ('pos', 'unpracticed', 'GA12', 1): 0.4305555555555556,\n",
       " ('path', 'unpracticed', 'GA12', 1): 0.29861111111111116,\n",
       " ('pos', 'practiced', 'GA13', 1): 0.40625,\n",
       " ('path', 'practiced', 'GA13', 1): 0.24305555555555558,\n",
       " ('pos', 'unpracticed', 'GA13', 1): 0.40277777777777785,\n",
       " ('path', 'unpracticed', 'GA13', 1): 0.19444444444444445,\n",
       " ('pos', 'practiced', 'GA14', 1): 0.28472222222222227,\n",
       " ('path', 'practiced', 'GA14', 1): 0.17013888888888887,\n",
       " ('pos', 'unpracticed', 'GA14', 1): 0.3229166666666667,\n",
       " ('path', 'unpracticed', 'GA14', 1): 0.18055555555555555,\n",
       " ('pos', 'practiced', 'GA15', 1): 0.3680555555555556,\n",
       " ('path', 'practiced', 'GA15', 1): 0.18055555555555555,\n",
       " ('pos', 'unpracticed', 'GA15', 1): 0.3993055555555556,\n",
       " ('path', 'unpracticed', 'GA15', 1): 0.20138888888888887,\n",
       " ('pos', 'practiced', 'GA18', 1): 0.37152777777777773,\n",
       " ('path', 'practiced', 'GA18', 1): 0.16666666666666666,\n",
       " ('pos', 'unpracticed', 'GA18', 1): 0.3506944444444445,\n",
       " ('path', 'unpracticed', 'GA18', 1): 0.13541666666666666,\n",
       " ('pos', 'practiced', 'GA19', 1): 0.2986111111111111,\n",
       " ('path', 'practiced', 'GA19', 1): 0.13194444444444445,\n",
       " ('pos', 'unpracticed', 'GA19', 1): 0.3541666666666667,\n",
       " ('path', 'unpracticed', 'GA19', 1): 0.15972222222222224,\n",
       " ('pos', 'practiced', 'GA20', 1): 0.37152777777777773,\n",
       " ('path', 'practiced', 'GA20', 1): 0.1111111111111111,\n",
       " ('pos', 'unpracticed', 'GA20', 1): 0.44097222222222215,\n",
       " ('path', 'unpracticed', 'GA20', 1): 0.17361111111111113,\n",
       " ('pos', 'practiced', 'GA21', 1): 0.3125,\n",
       " ('path', 'practiced', 'GA21', 1): 0.11805555555555554,\n",
       " ('pos', 'unpracticed', 'GA21', 1): 0.3090277777777778,\n",
       " ('path', 'unpracticed', 'GA21', 1): 0.12152777777777779,\n",
       " ('pos', 'practiced', 'GA23', 1): 0.24305555555555558,\n",
       " ('path', 'practiced', 'GA23', 1): 0.13194444444444445,\n",
       " ('pos', 'unpracticed', 'GA23', 1): 0.3090277777777778,\n",
       " ('path', 'unpracticed', 'GA23', 1): 0.09722222222222222,\n",
       " ('pos', 'practiced', 'GA26', 1): 0.3125,\n",
       " ('path', 'practiced', 'GA26', 1): 0.125,\n",
       " ('pos', 'unpracticed', 'GA26', 1): 0.3333333333333333,\n",
       " ('path', 'unpracticed', 'GA26', 1): 0.21875,\n",
       " ('pos', 'practiced', 'GA27', 1): 0.3229166666666667,\n",
       " ('path', 'practiced', 'GA27', 1): 0.15625,\n",
       " ('pos', 'unpracticed', 'GA27', 1): 0.34375,\n",
       " ('path', 'unpracticed', 'GA27', 1): 0.21180555555555558,\n",
       " ('pos', 'practiced', 'GA28', 1): 0.3055555555555555,\n",
       " ('path', 'practiced', 'GA28', 1): 0.1423611111111111,\n",
       " ('pos', 'unpracticed', 'GA28', 1): 0.2986111111111111,\n",
       " ('path', 'unpracticed', 'GA28', 1): 0.12152777777777778,\n",
       " ('pos', 'practiced', 'GA29', 1): 0.34375,\n",
       " ('path', 'practiced', 'GA29', 1): 0.18402777777777776,\n",
       " ('pos', 'unpracticed', 'GA29', 1): 0.46527777777777785,\n",
       " ('path', 'unpracticed', 'GA29', 1): 0.24305555555555558,\n",
       " ('pos', 'practiced', 'GA30', 1): 0.3993055555555556,\n",
       " ('path', 'practiced', 'GA30', 1): 0.18055555555555555,\n",
       " ('pos', 'unpracticed', 'GA30', 1): 0.3680555555555556,\n",
       " ('path', 'unpracticed', 'GA30', 1): 0.1597222222222222,\n",
       " ('pos', 'practiced', 'GA31', 1): 0.2916666666666667,\n",
       " ('path', 'practiced', 'GA31', 1): 0.1284722222222222,\n",
       " ('pos', 'unpracticed', 'GA31', 1): 0.3020833333333333,\n",
       " ('path', 'unpracticed', 'GA31', 1): 0.125,\n",
       " ('pos', 'practiced', 'GA32', 1): 0.2986111111111111,\n",
       " ('path', 'practiced', 'GA32', 1): 0.18055555555555558,\n",
       " ('pos', 'unpracticed', 'GA32', 1): 0.32638888888888884,\n",
       " ('path', 'unpracticed', 'GA32', 1): 0.17361111111111108,\n",
       " ('pos', 'practiced', 'GA33', 1): 0.3055555555555555,\n",
       " ('path', 'practiced', 'GA33', 1): 0.12499999999999999,\n",
       " ('pos', 'unpracticed', 'GA33', 1): 0.32986111111111116,\n",
       " ('path', 'unpracticed', 'GA33', 1): 0.1111111111111111,\n",
       " ('pos', 'practiced', 'GA34', 1): 0.34027777777777773,\n",
       " ('path', 'practiced', 'GA34', 1): 0.14236111111111113,\n",
       " ('pos', 'unpracticed', 'GA34', 1): 0.2986111111111111,\n",
       " ('path', 'unpracticed', 'GA34', 1): 0.17013888888888892,\n",
       " ('pos', 'practiced', 'GA35', 1): 0.3854166666666667,\n",
       " ('path', 'practiced', 'GA35', 1): 0.19791666666666666,\n",
       " ('pos', 'unpracticed', 'GA35', 1): 0.3229166666666667,\n",
       " ('path', 'unpracticed', 'GA35', 1): 0.12152777777777778,\n",
       " ('pos', 'practiced', 'GA36', 1): 0.3541666666666667,\n",
       " ('path', 'practiced', 'GA36', 1): 0.13541666666666666,\n",
       " ('pos', 'unpracticed', 'GA36', 1): 0.3263888888888889,\n",
       " ('path', 'unpracticed', 'GA36', 1): 0.1284722222222222,\n",
       " ('pos', 'practiced', 'GA37', 1): 0.3819444444444444,\n",
       " ('path', 'practiced', 'GA37', 1): 0.16666666666666666,\n",
       " ('pos', 'unpracticed', 'GA37', 1): 0.3680555555555556,\n",
       " ('path', 'unpracticed', 'GA37', 1): 0.1840277777777778,\n",
       " ('pos', 'practiced', 'GA38', 1): 0.3368055555555556,\n",
       " ('path', 'practiced', 'GA38', 1): 0.125,\n",
       " ('pos', 'unpracticed', 'GA38', 1): 0.3020833333333333,\n",
       " ('path', 'unpracticed', 'GA38', 1): 0.125,\n",
       " ('pos', 'practiced', 'GA42', 1): 0.3541666666666667,\n",
       " ('path', 'practiced', 'GA42', 1): 0.1423611111111111,\n",
       " ('pos', 'unpracticed', 'GA42', 1): 0.3368055555555556,\n",
       " ('path', 'unpracticed', 'GA42', 1): 0.10763888888888888,\n",
       " ('pos', 'practiced', 'GA44', 1): 0.3680555555555556,\n",
       " ('path', 'practiced', 'GA44', 1): 0.1597222222222222,\n",
       " ('pos', 'unpracticed', 'GA44', 1): 0.47222222222222227,\n",
       " ('path', 'unpracticed', 'GA44', 1): 0.21875}"
      ]
     },
     "execution_count": 14,
     "metadata": {},
     "output_type": "execute_result"
    }
   ],
   "source": [
    "results"
   ]
  },
  {
   "cell_type": "code",
   "execution_count": 15,
   "metadata": {},
   "outputs": [],
   "source": [
    "data = []"
   ]
  },
  {
   "cell_type": "code",
   "execution_count": 16,
   "metadata": {},
   "outputs": [
    {
     "name": "stdout",
     "output_type": "stream",
     "text": [
      "GB44\r"
     ]
    }
   ],
   "source": [
    "subj_list = [\n",
    "#    'GA01', 'GA02', 'GA05', 'GA07', 'GA08', 'GA11', 'GA12', 'GA13', 'GA14', 'GA15',\n",
    "#    'GA18', 'GA19', 'GA20', 'GA21', 'GA23', 'GA26', 'GA27', 'GA28', 'GA29', 'GA30',\n",
    "#    'GA31', 'GA32', 'GA33', 'GA34', 'GA35', 'GA36', 'GA37', 'GA38', 'GA42', 'GA44'\n",
    "#]\n",
    "    \n",
    "   'GB01', 'GB02', 'GB05', 'GB07', 'GB08', 'GB11', 'GB12', 'GB13', 'GB14', 'GB15',\n",
    "   'GB18', 'GB19', 'GB20', 'GB21', 'GB23', 'GB26', 'GB27', 'GB28', 'GB29', 'GB30',\n",
    "   'GB31', 'GB32', 'GB33', 'GB34', 'GB35', 'GB36', 'GB37', 'GB38', 'GB42', 'GB44'\n",
    "]\n",
    "\n",
    "data = {}\n",
    "\n",
    "for subj in subj_list:\n",
    "    for run in range(1, 7):\n",
    "        data[subj, run] = nilearn.image.load_img(data_dir + 'betasLSS.MO.shortdur.%s.r%02d.nii.gz' % (subj, run))\n",
    "    print(subj, end='\\r')"
   ]
  },
  {
   "cell_type": "code",
   "execution_count": 17,
   "metadata": {},
   "outputs": [],
   "source": [
    "for key, value in data.items():\n",
    "    data[key] = nilearn.image.index_img(value, np.arange(1, 97))"
   ]
  },
  {
   "cell_type": "code",
   "execution_count": 18,
   "metadata": {},
   "outputs": [],
   "source": [
    "target_path = list(range(1, 13)) * 8\n",
    "target_pos = []\n",
    "\n",
    "with open('/Volumes/clmnlab/GA/MVPA/LSS_pb02/behaviors/targetID.txt') as file:\n",
    "    for line in file:\n",
    "        target_pos.append(int(line.strip()))\n",
    "        \n",
    "target_pos = target_pos[1:97]"
   ]
  },
  {
   "cell_type": "code",
   "execution_count": 19,
   "metadata": {},
   "outputs": [
    {
     "name": "stdout",
     "output_type": "stream",
     "text": [
      "GB44 1\r"
     ]
    }
   ],
   "source": [
    "for subj in subj_list:\n",
    "    for m, roi in enumerate(roi_imgs):\n",
    "        roi_index = m+1\n",
    "        \n",
    "        if ('pos', 'unpracticed', subj, roi_index) in results:\n",
    "            continue\n",
    "        \n",
    "        X = [\n",
    "            fast_masking(roi=roi, img=data[subj, 1]), \n",
    "            fast_masking(roi=roi, img=data[subj, 2]), \n",
    "            fast_masking(roi=roi, img=data[subj, 3]), \n",
    "        ]\n",
    "        \n",
    "        results['pos', 'practiced', subj, roi_index] = cross_validation(X, target_pos)\n",
    "        results['path', 'practiced', subj, roi_index] = cross_validation(X, target_path)\n",
    "        \n",
    "        X = [\n",
    "            fast_masking(roi=roi, img=data[subj, 4]), \n",
    "            fast_masking(roi=roi, img=data[subj, 5]), \n",
    "            fast_masking(roi=roi, img=data[subj, 6]), \n",
    "        ]\n",
    "        \n",
    "        results['pos', 'unpracticed', subj, roi_index] = cross_validation(X, target_pos)\n",
    "        results['path', 'unpracticed', subj, roi_index] = cross_validation(X, target_path)\n",
    "        \n",
    "        print(subj, roi_index, end='\\r')"
   ]
  },
  {
   "cell_type": "code",
   "execution_count": 20,
   "metadata": {},
   "outputs": [
    {
     "data": {
      "text/html": [
       "<div>\n",
       "<style scoped>\n",
       "    .dataframe tbody tr th:only-of-type {\n",
       "        vertical-align: middle;\n",
       "    }\n",
       "\n",
       "    .dataframe tbody tr th {\n",
       "        vertical-align: top;\n",
       "    }\n",
       "\n",
       "    .dataframe thead th {\n",
       "        text-align: right;\n",
       "    }\n",
       "</style>\n",
       "<table border=\"1\" class=\"dataframe\">\n",
       "  <thead>\n",
       "    <tr style=\"text-align: right;\">\n",
       "      <th></th>\n",
       "      <th>target</th>\n",
       "      <th>practiced</th>\n",
       "      <th>subject</th>\n",
       "      <th>roi</th>\n",
       "      <th>accu</th>\n",
       "    </tr>\n",
       "  </thead>\n",
       "  <tbody>\n",
       "    <tr>\n",
       "      <th>0</th>\n",
       "      <td>pos</td>\n",
       "      <td>practiced</td>\n",
       "      <td>GA01</td>\n",
       "      <td>1</td>\n",
       "      <td>0.402778</td>\n",
       "    </tr>\n",
       "    <tr>\n",
       "      <th>1</th>\n",
       "      <td>path</td>\n",
       "      <td>practiced</td>\n",
       "      <td>GA01</td>\n",
       "      <td>1</td>\n",
       "      <td>0.184028</td>\n",
       "    </tr>\n",
       "    <tr>\n",
       "      <th>2</th>\n",
       "      <td>pos</td>\n",
       "      <td>unpracticed</td>\n",
       "      <td>GA01</td>\n",
       "      <td>1</td>\n",
       "      <td>0.350694</td>\n",
       "    </tr>\n",
       "    <tr>\n",
       "      <th>3</th>\n",
       "      <td>path</td>\n",
       "      <td>unpracticed</td>\n",
       "      <td>GA01</td>\n",
       "      <td>1</td>\n",
       "      <td>0.180556</td>\n",
       "    </tr>\n",
       "    <tr>\n",
       "      <th>4</th>\n",
       "      <td>pos</td>\n",
       "      <td>practiced</td>\n",
       "      <td>GA02</td>\n",
       "      <td>1</td>\n",
       "      <td>0.350694</td>\n",
       "    </tr>\n",
       "  </tbody>\n",
       "</table>\n",
       "</div>"
      ],
      "text/plain": [
       "  target    practiced subject roi      accu\n",
       "0    pos    practiced    GA01   1  0.402778\n",
       "1   path    practiced    GA01   1  0.184028\n",
       "2    pos  unpracticed    GA01   1  0.350694\n",
       "3   path  unpracticed    GA01   1  0.180556\n",
       "4    pos    practiced    GA02   1  0.350694"
      ]
     },
     "execution_count": 20,
     "metadata": {},
     "output_type": "execute_result"
    }
   ],
   "source": [
    "df = pd.DataFrame(columns=['target', 'practiced', 'subject', 'roi', 'accu'])\n",
    "for i,j in zip(results.keys(), results.values()):\n",
    "    df = df.append({'target':i[0], 'practiced':i[1], 'subject':i[2], 'roi':i[3], 'accu':j}, ignore_index=True)\n",
    "    \n",
    "df.head()"
   ]
  },
  {
   "cell_type": "code",
   "execution_count": 23,
   "metadata": {},
   "outputs": [],
   "source": [
    "df.to_csv(\"20190906_DMN_lda_average.csv\")"
   ]
  },
  {
   "cell_type": "code",
   "execution_count": null,
   "metadata": {},
   "outputs": [],
   "source": []
  }
 ],
 "metadata": {
  "kernelspec": {
   "display_name": "Python 3",
   "language": "python",
   "name": "python3"
  },
  "language_info": {
   "codemirror_mode": {
    "name": "ipython",
    "version": 3
   },
   "file_extension": ".py",
   "mimetype": "text/x-python",
   "name": "python",
   "nbconvert_exporter": "python",
   "pygments_lexer": "ipython3",
   "version": "3.7.3"
  }
 },
 "nbformat": 4,
 "nbformat_minor": 2
}
