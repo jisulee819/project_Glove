{
 "cells": [
  {
   "cell_type": "code",
   "execution_count": 1,
   "metadata": {},
   "outputs": [
    {
     "name": "stderr",
     "output_type": "stream",
     "text": [
      "/Users/eyshin/.pyenv/versions/3.6.6/lib/python3.6/importlib/_bootstrap.py:219: ImportWarning: can't resolve package from __spec__ or __package__, falling back on __name__ and __path__\n",
      "  return f(*args, **kwds)\n",
      "/Users/eyshin/.pyenv/versions/3.6.6/lib/python3.6/importlib/_bootstrap.py:219: RuntimeWarning: numpy.dtype size changed, may indicate binary incompatibility. Expected 96, got 88\n",
      "  return f(*args, **kwds)\n",
      "/Users/eyshin/.pyenv/versions/3.6.6/lib/python3.6/importlib/_bootstrap.py:219: ImportWarning: can't resolve package from __spec__ or __package__, falling back on __name__ and __path__\n",
      "  return f(*args, **kwds)\n"
     ]
    }
   ],
   "source": [
    "%matplotlib inline\n",
    "\n",
    "import glob\n",
    "import matplotlib.pyplot as plt\n",
    "import nilearn.image, nilearn.masking, nilearn.plotting\n",
    "import numpy as np\n",
    "import pandas as pd\n",
    "import scipy.stats\n",
    "import seaborn as sns\n",
    "\n",
    "from sklearn.discriminant_analysis import LinearDiscriminantAnalysis"
   ]
  },
  {
   "cell_type": "code",
   "execution_count": 2,
   "metadata": {},
   "outputs": [],
   "source": [
    "data_dir = '/Volumes/clmnlab/GA/MVPA/LSS_pb02_MO/data/'"
   ]
  },
  {
   "cell_type": "code",
   "execution_count": 3,
   "metadata": {},
   "outputs": [
    {
     "name": "stderr",
     "output_type": "stream",
     "text": [
      "/Users/eyshin/.pyenv/versions/eyspy3.6/lib/python3.6/site-packages/nibabel/nifti1.py:582: DeprecationWarning: The binary mode of fromstring is deprecated, as it behaves surprisingly on unicode inputs. Use frombuffer instead\n",
      "  ext_def = np.fromstring(ext_def, dtype=np.int32)\n"
     ]
    }
   ],
   "source": [
    "roi_dir = '/Volumes/clmnlab/GA/fmri_data/masks/AALnew/'\n",
    "\n",
    "roi_path = sorted(glob.glob(roi_dir + 'AALnew_ROI_resam*.nii'))\n",
    "roi_imgs = []\n",
    "\n",
    "for path in roi_path:\n",
    "    roi_imgs.append(nilearn.image.load_img(path))"
   ]
  },
  {
   "cell_type": "code",
   "execution_count": 4,
   "metadata": {},
   "outputs": [],
   "source": [
    "subj_list = [\n",
    "    'GA01', 'GA02', 'GA05', 'GA07', 'GA08', 'GA11', 'GA12', 'GA13', 'GA14', 'GA15',\n",
    "    'GA18', 'GA19', 'GA20', 'GA21', 'GA23', 'GA26', 'GA27', 'GA28', 'GA29', 'GA30',\n",
    "    'GA31', 'GA32', 'GA33', 'GA34', 'GA35', 'GA36', 'GA37', 'GA38', 'GA42', 'GA44',\n",
    "    'GB01', 'GB02', 'GB05', 'GB07', 'GB08', 'GB11', 'GB12', 'GB13', 'GB14', 'GB15',\n",
    "    'GB18', 'GB19', 'GB20', 'GB21', 'GB23', 'GB26', 'GB27', 'GB28', 'GB29', 'GB30',\n",
    "    'GB31', 'GB32', 'GB33', 'GB34', 'GB35', 'GB36', 'GB37', 'GB38', 'GB42', 'GB44'\n",
    "]"
   ]
  },
  {
   "cell_type": "code",
   "execution_count": 5,
   "metadata": {},
   "outputs": [
    {
     "name": "stderr",
     "output_type": "stream",
     "text": [
      "/Users/eyshin/.pyenv/versions/eyspy3.6/lib/python3.6/site-packages/nibabel/nifti1.py:582: DeprecationWarning: The binary mode of fromstring is deprecated, as it behaves surprisingly on unicode inputs. Use frombuffer instead\n",
      "  ext_def = np.fromstring(ext_def, dtype=np.int32)\n"
     ]
    },
    {
     "name": "stdout",
     "output_type": "stream",
     "text": [
      "GB44\r"
     ]
    }
   ],
   "source": [
    "data = {}\n",
    "\n",
    "for subj in subj_list:\n",
    "    for run in range(1, 7):\n",
    "        data[subj, run] = nilearn.image.load_img(data_dir + 'betasLSS.MO.%s.r%02d.nii.gz' % (subj, run))\n",
    "    print(subj, end='\\r')"
   ]
  },
  {
   "cell_type": "code",
   "execution_count": 6,
   "metadata": {},
   "outputs": [],
   "source": [
    "for key, value in data.items():\n",
    "    data[key] = nilearn.image.index_img(value, np.arange(1, 97))"
   ]
  },
  {
   "cell_type": "code",
   "execution_count": 7,
   "metadata": {},
   "outputs": [],
   "source": [
    "lda = LinearDiscriminantAnalysis()\n",
    "\n",
    "target_path = list(range(1, 13)) * 8"
   ]
  },
  {
   "cell_type": "code",
   "execution_count": 8,
   "metadata": {},
   "outputs": [],
   "source": [
    "target_pos = []\n",
    "\n",
    "with open('/Volumes/clmnlab/GA/MVPA/LSS_pb02/behaviors/targetID.txt') as file:\n",
    "    for line in file:\n",
    "        target_pos.append(int(line.strip()))\n",
    "        \n",
    "target_pos = target_pos[1:97]"
   ]
  },
  {
   "cell_type": "code",
   "execution_count": 9,
   "metadata": {},
   "outputs": [],
   "source": [
    "def fast_masking(img, roi):\n",
    "    img_data = img.get_data()\n",
    "    roi_mask = roi.get_data().astype(bool)\n",
    "    \n",
    "    if img_data.shape[:3] != roi_mask.shape:\n",
    "        raise ValueError('different shape while masking! img=%s and roi=%s' % (img_data.shape, roi_mask.shape))\n",
    "        \n",
    "    return img_data[roi_mask, :].T"
   ]
  },
  {
   "cell_type": "code",
   "execution_count": 10,
   "metadata": {},
   "outputs": [],
   "source": [
    "def accuracy(train_X, train_y, test_X, test_y):\n",
    "    lda.fit(train_X, train_y)\n",
    "    return np.mean(lda.predict(test_X) == test_y)\n",
    "\n",
    "def cross_validation(datasets, target):\n",
    "    train_y = target + target\n",
    "    test_y = target\n",
    "    \n",
    "    result = []\n",
    "    \n",
    "    for i in range(len(datasets)):\n",
    "        train_X = np.concatenate([a for j, a in enumerate(datasets) if j != i])\n",
    "        test_X = datasets[i]\n",
    "        \n",
    "        result.append(accuracy(train_X, train_y, test_X, test_y))\n",
    "        \n",
    "    return np.mean(result)"
   ]
  },
  {
   "cell_type": "code",
   "execution_count": 12,
   "metadata": {},
   "outputs": [
    {
     "name": "stderr",
     "output_type": "stream",
     "text": [
      "/Users/eyshin/.pyenv/versions/eyspy3.6/lib/python3.6/site-packages/sklearn/discriminant_analysis.py:294: RuntimeWarning: internal gelsd driver lwork query error, required iwork dimension not returned. This is likely the result of LAPACK bug 0038, fixed in LAPACK 3.2.2 (released July 21, 2010). Falling back to 'gelss' driver.\n",
      "  self.coef_ = linalg.lstsq(self.covariance_, self.means_.T)[0].T\n"
     ]
    },
    {
     "name": "stdout",
     "output_type": "stream",
     "text": [
      "GB44 120\r"
     ]
    }
   ],
   "source": [
    "lda = LinearDiscriminantAnalysis(solver='lsqr', shrinkage='auto')\n",
    "\n",
    "results = {}\n",
    "\n",
    "for subj in subj_list:\n",
    "    for m, roi in enumerate(roi_imgs):\n",
    "        roi_index = m+1\n",
    "        \n",
    "        if ('pos', 'unpracticed', subj, roi_index) in results:\n",
    "            continue\n",
    "        \n",
    "        X = [\n",
    "            fast_masking(roi=roi, img=data[subj, 1]), \n",
    "            fast_masking(roi=roi, img=data[subj, 2]), \n",
    "            fast_masking(roi=roi, img=data[subj, 3]), \n",
    "        ]\n",
    "        \n",
    "        results['pos', 'practiced', subj, roi_index] = cross_validation(X, target_pos)\n",
    "        results['path', 'practiced', subj, roi_index] = cross_validation(X, target_path)\n",
    "        \n",
    "        X = [\n",
    "            fast_masking(roi=roi, img=data[subj, 4]), \n",
    "            fast_masking(roi=roi, img=data[subj, 5]), \n",
    "            fast_masking(roi=roi, img=data[subj, 6]), \n",
    "        ]\n",
    "        \n",
    "        results['pos', 'unpracticed', subj, roi_index] = cross_validation(X, target_pos)\n",
    "        results['path', 'unpracticed', subj, roi_index] = cross_validation(X, target_path)\n",
    "        \n",
    "        print(subj, roi_index, end='\\r')"
   ]
  },
  {
   "cell_type": "code",
   "execution_count": 32,
   "metadata": {},
   "outputs": [
    {
     "data": {
      "text/plain": [
       "21126"
      ]
     },
     "execution_count": 32,
     "metadata": {},
     "output_type": "execute_result"
    }
   ],
   "source": [
    "len(results)"
   ]
  },
  {
   "cell_type": "code",
   "execution_count": null,
   "metadata": {},
   "outputs": [],
   "source": [
    "df.to_csv(\"20190906_DMN_.csv\")"
   ]
  }
 ],
 "metadata": {
  "kernelspec": {
   "display_name": "Python 3",
   "language": "python",
   "name": "python3"
  },
  "language_info": {
   "codemirror_mode": {
    "name": "ipython",
    "version": 3
   },
   "file_extension": ".py",
   "mimetype": "text/x-python",
   "name": "python",
   "nbconvert_exporter": "python",
   "pygments_lexer": "ipython3",
   "version": "3.7.3"
  }
 },
 "nbformat": 4,
 "nbformat_minor": 2
}
